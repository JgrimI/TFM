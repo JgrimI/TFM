{
 "cells": [
  {
   "cell_type": "code",
   "execution_count": 1,
   "metadata": {},
   "outputs": [
    {
     "name": "stderr",
     "output_type": "stream",
     "text": [
      "c:\\Users\\alber\\Downloads\\New Folder\\tfm\\.venv\\lib\\site-packages\\tensorflow_addons\\utils\\tfa_eol_msg.py:23: UserWarning: \n",
      "\n",
      "TensorFlow Addons (TFA) has ended development and introduction of new features.\n",
      "TFA has entered a minimal maintenance and release mode until a planned end of life in May 2024.\n",
      "Please modify downstream libraries to take dependencies from other repositories in our TensorFlow community (e.g. Keras, Keras-CV, and Keras-NLP). \n",
      "\n",
      "For more information see: https://github.com/tensorflow/addons/issues/2807 \n",
      "\n",
      "  warnings.warn(\n",
      "c:\\Users\\alber\\Downloads\\New Folder\\tfm\\.venv\\lib\\site-packages\\tensorflow_addons\\utils\\ensure_tf_install.py:53: UserWarning: Tensorflow Addons supports using Python ops for all Tensorflow versions above or equal to 2.12.0 and strictly below 2.15.0 (nightly versions are not supported). \n",
      " The versions of TensorFlow you are currently using is 2.10.0 and is not supported. \n",
      "Some things might work, some things might not.\n",
      "If you were to encounter a bug, do not file an issue.\n",
      "If you want to make sure you're using a tested and supported configuration, either change the TensorFlow version or the TensorFlow Addons's version. \n",
      "You can find the compatibility matrix in TensorFlow Addon's readme:\n",
      "https://github.com/tensorflow/addons\n",
      "  warnings.warn(\n"
     ]
    }
   ],
   "source": [
    "# Importamos los módulos necesarios\n",
    "import os\n",
    "import numpy as np\n",
    "import tensorflow as tf\n",
    "from datetime import datetime\n",
    "import pandas as pd\n",
    "import _prepare_datasets as _prepare_datasets\n"
   ]
  },
  {
   "cell_type": "code",
   "execution_count": 2,
   "metadata": {},
   "outputs": [],
   "source": [
    "# Configuración de hiperparámetros y augmentaciones para los datos aumentados\n",
    "batches = 16\n",
    "input_width = 256\n",
    "shuffled = True\n",
    "augmented = {\n",
    "    \"flip_left_right\": 0,\n",
    "    \"flip_up_down\": 0,\n",
    "    \"gaussian_blur\": 0.2,\n",
    "    \"random_noise\": 0.0,\n",
    "    \"random_brightness\": 0.5,\n",
    "    \"random_contrast\": 0.5\n",
    "}\n",
    "\n",
    "# Procesamos los datasets usando las augmentaciones configuradas\n",
    "train_dataset, val_dataset, test_dataset, amazon_training_image_paths, amazon_training_label_paths, amazon_validation_image_paths, amazon_validation_label_paths, amazon_test_image_paths, amazon_test_label_paths = \\\n",
    "    _prepare_datasets.prepare_datasets(\n",
    "        batch_size=batches, \n",
    "        shuffle_data=shuffled,\n",
    "        augment_options=augmented, \n",
    "        img_size=input_width,\n",
    "        data_path='../data/edit/'\n",
    "    )\n"
   ]
  },
  {
   "cell_type": "code",
   "execution_count": 3,
   "metadata": {},
   "outputs": [
    {
     "name": "stderr",
     "output_type": "stream",
     "text": [
      "c:\\Users\\alber\\Downloads\\New Folder\\tfm\\.venv\\lib\\site-packages\\rasterio\\__init__.py:386: NotGeoreferencedWarning: Dataset has no geotransform, gcps, or rpcs. The identity matrix will be returned.\n",
      "  dataset = DatasetReader(path, driver=driver, sharing=sharing, **kwargs)\n"
     ]
    }
   ],
   "source": [
    "# Definimos la ruta para guardar los datasets aumentados\n",
    "save_path_augmented = '../data/tf/augmented'\n",
    "if not os.path.exists(save_path_augmented):\n",
    "    os.makedirs(save_path_augmented)\n",
    "\n",
    "train_path_augmented = os.path.join(save_path_augmented, 'train')\n",
    "val_path_augmented = os.path.join(save_path_augmented, 'val')\n",
    "test_path_augmented = os.path.join(save_path_augmented, 'test')\n",
    "\n",
    "# Guardamos los datasets aumentados en formato TensorFlow\n",
    "tf.data.Dataset.save(train_dataset, train_path_augmented)\n",
    "tf.data.Dataset.save(val_dataset, val_path_augmented)\n",
    "tf.data.Dataset.save(test_dataset, test_path_augmented)\n"
   ]
  },
  {
   "cell_type": "code",
   "execution_count": 4,
   "metadata": {},
   "outputs": [],
   "source": [
    "# Configuración de hiperparámetros y augmentaciones (sin augmentación)\n",
    "batches = 16\n",
    "input_width = 256\n",
    "shuffled = True\n",
    "not_augmented = {\n",
    "    \"flip_left_right\": 0,\n",
    "    \"flip_up_down\": 0,\n",
    "    \"gaussian_blur\": 0,\n",
    "    \"random_noise\": 0,\n",
    "    \"random_brightness\": 0,\n",
    "    \"random_contrast\": 0\n",
    "}\n",
    "\n",
    "# Procesamos los datasets sin augmentaciones\n",
    "train_dataset_no_aug, val_dataset_no_aug, test_dataset_no_aug, amazon_training_image_paths, amazon_training_label_paths, amazon_validation_image_paths, amazon_validation_label_paths, amazon_test_image_paths, amazon_test_label_paths = \\\n",
    "    _prepare_datasets.prepare_datasets(\n",
    "        batch_size=batches, \n",
    "        shuffle_data=shuffled,\n",
    "        augment_options=not_augmented, \n",
    "        img_size=input_width,\n",
    "        data_path='../data/edit/'\n",
    "    )\n"
   ]
  },
  {
   "cell_type": "code",
   "execution_count": 5,
   "metadata": {},
   "outputs": [
    {
     "name": "stderr",
     "output_type": "stream",
     "text": [
      "c:\\Users\\alber\\Downloads\\New Folder\\tfm\\.venv\\lib\\site-packages\\rasterio\\__init__.py:386: NotGeoreferencedWarning: Dataset has no geotransform, gcps, or rpcs. The identity matrix will be returned.\n",
      "  dataset = DatasetReader(path, driver=driver, sharing=sharing, **kwargs)\n"
     ]
    },
    {
     "ename": "",
     "evalue": "",
     "output_type": "error",
     "traceback": [
      "\u001b[1;31mThe Kernel crashed while executing code in the current cell or a previous cell. \n",
      "\u001b[1;31mPlease review the code in the cell(s) to identify a possible cause of the failure. \n",
      "\u001b[1;31mClick <a href='https://aka.ms/vscodeJupyterKernelCrash'>here</a> for more info. \n",
      "\u001b[1;31mView Jupyter <a href='command:jupyter.viewOutput'>log</a> for further details."
     ]
    }
   ],
   "source": [
    "# Definimos la ruta para guardar los datasets sin aumentaciones\n",
    "save_path_not_augmented = '../data/tf/not_augmented'\n",
    "if not os.path.exists(save_path_not_augmented):\n",
    "    os.makedirs(save_path_not_augmented)\n",
    "\n",
    "train_path_not_augmented = os.path.join(save_path_not_augmented, 'train')\n",
    "val_path_not_augmented = os.path.join(save_path_not_augmented, 'val')\n",
    "test_path_not_augmented = os.path.join(save_path_not_augmented, 'test')\n",
    "\n",
    "# Guardamos los datasets sin augmentaciones en formato TensorFlow\n",
    "tf.data.Dataset.save(train_dataset_no_aug, train_path_not_augmented)\n",
    "tf.data.Dataset.save(val_dataset_no_aug, val_path_not_augmented)\n",
    "tf.data.Dataset.save(test_dataset_no_aug, test_path_not_augmented)\n"
   ]
  }
 ],
 "metadata": {
  "kernelspec": {
   "display_name": ".venv",
   "language": "python",
   "name": "python3"
  },
  "language_info": {
   "codemirror_mode": {
    "name": "ipython",
    "version": 3
   },
   "file_extension": ".py",
   "mimetype": "text/x-python",
   "name": "python",
   "nbconvert_exporter": "python",
   "pygments_lexer": "ipython3",
   "version": "3.9.13"
  }
 },
 "nbformat": 4,
 "nbformat_minor": 2
}
